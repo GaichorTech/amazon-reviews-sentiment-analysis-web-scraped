{
 "cells": [
  {
   "cell_type": "markdown",
   "id": "81ac5df7",
   "metadata": {},
   "source": [
    "# Import libraries"
   ]
  },
  {
   "cell_type": "code",
   "execution_count": 101,
   "id": "cfa85515",
   "metadata": {
    "ExecuteTime": {
     "end_time": "2022-08-04T19:09:19.632459Z",
     "start_time": "2022-08-04T19:09:14.281665Z"
    }
   },
   "outputs": [],
   "source": [
    "import pandas as pd\n",
    "import matplotlib.pyplot as plt\n",
    "import seaborn as sns\n",
    "import tensorflow as tf\n",
    "from tensorflow.keras import models, layers\n",
    "from tensorflow.keras.preprocessing.text import Tokenizer, text_to_word_sequence\n",
    "from tensorflow.keras.preprocessing.sequence import pad_sequences\n",
    "import re"
   ]
  },
  {
   "cell_type": "markdown",
   "id": "4f7ecf68",
   "metadata": {},
   "source": [
    "# Read the data"
   ]
  },
  {
   "cell_type": "code",
   "execution_count": 2,
   "id": "770940a4",
   "metadata": {
    "ExecuteTime": {
     "end_time": "2022-08-04T18:12:01.189256Z",
     "start_time": "2022-08-04T18:12:00.557239Z"
    }
   },
   "outputs": [],
   "source": [
    "reviews = pd.read_csv('reviews.csv',)"
   ]
  },
  {
   "cell_type": "code",
   "execution_count": 4,
   "id": "66ec8c0d",
   "metadata": {
    "ExecuteTime": {
     "end_time": "2022-08-04T18:13:32.376755Z",
     "start_time": "2022-08-04T18:13:32.344690Z"
    }
   },
   "outputs": [
    {
     "data": {
      "text/html": [
       "<div>\n",
       "<style scoped>\n",
       "    .dataframe tbody tr th:only-of-type {\n",
       "        vertical-align: middle;\n",
       "    }\n",
       "\n",
       "    .dataframe tbody tr th {\n",
       "        vertical-align: top;\n",
       "    }\n",
       "\n",
       "    .dataframe thead th {\n",
       "        text-align: right;\n",
       "    }\n",
       "</style>\n",
       "<table border=\"1\" class=\"dataframe\">\n",
       "  <thead>\n",
       "    <tr style=\"text-align: right;\">\n",
       "      <th></th>\n",
       "      <th>0</th>\n",
       "    </tr>\n",
       "  </thead>\n",
       "  <tbody>\n",
       "    <tr>\n",
       "      <th>0</th>\n",
       "      <td>In my first review given within 24 hrs l found...</td>\n",
       "    </tr>\n",
       "    <tr>\n",
       "      <th>1</th>\n",
       "      <td>First of all I would like to tell you that i w...</td>\n",
       "    </tr>\n",
       "    <tr>\n",
       "      <th>2</th>\n",
       "      <td>Received my unit 4hr ago and here is what I th...</td>\n",
       "    </tr>\n",
       "    <tr>\n",
       "      <th>3</th>\n",
       "      <td>I got OnePlus Nord 2 5G phone delivered yester...</td>\n",
       "    </tr>\n",
       "    <tr>\n",
       "      <th>4</th>\n",
       "      <td>7/28:Received this yesterday and first impress...</td>\n",
       "    </tr>\n",
       "  </tbody>\n",
       "</table>\n",
       "</div>"
      ],
      "text/plain": [
       "                                                   0\n",
       "0  In my first review given within 24 hrs l found...\n",
       "1  First of all I would like to tell you that i w...\n",
       "2  Received my unit 4hr ago and here is what I th...\n",
       "3  I got OnePlus Nord 2 5G phone delivered yester...\n",
       "4  7/28:Received this yesterday and first impress..."
      ]
     },
     "execution_count": 4,
     "metadata": {},
     "output_type": "execute_result"
    }
   ],
   "source": [
    "# check the head of the dataset\n",
    "reviews.head()"
   ]
  },
  {
   "cell_type": "code",
   "execution_count": 17,
   "id": "bde5f8bd",
   "metadata": {
    "ExecuteTime": {
     "end_time": "2022-08-04T18:16:34.814927Z",
     "start_time": "2022-08-04T18:16:34.798927Z"
    }
   },
   "outputs": [
    {
     "name": "stdout",
     "output_type": "stream",
     "text": [
      "In my first review given within 24 hrs l found it amazing but after 10 days of usage l can say it is full of bugs; l checked my return window it passed on 3rd Aug ; l regret to choose one plus over samsung.. sooner l have to exchange or throw this mobile if bugs not fixed.One plus no never purchase; frustrated with this mobile.\n",
      "\n",
      "\n",
      "First of all I would like to tell you that i won't be giving a very technical review like those on ytube videos. I am gonna give a very honest review as a general phone user just like all of you only. This is my first phone for a price above 20k so i thought and researched a lot before buying. I was confused between buying iphone 12 and Nord 2 I know the price difference is more but still I won't go for above 50k to buy any phone other than Iphone. But honestly man i think at 30k this 1+ nord 2 is really astonishing. You don't need to go for one plus 9 or other higher range phones of one plus or else if you have some extra bucks in pocket which u just wanna spend.So I will be telling u the pros and cons of this phone very honestly after 3-4 days of very vigorous usage.Pros:1. Very ultra premium features at this price range of 30k and pretty much matching features with higer range one plus models.2. The display is just great.3. Screen refresh rate you can actually feel to be fast @90Hz.4. No heating issue in phone or the charger till now.5. They are giving a back cover with the phone, which is pretty good actually with bumps in side and camera portion which actually saved my phone from a direct fall on a rough floor that too on screen side..and no scratches at all!!..so the cover's tested guys😂and it actually feels elegant. So you need not do the hectic work of searching for back covers after buying a phone and infact the scratch guard which they have put on the screen is quite handy.. I don't think u need to put a temper guard if u handle ur phone well, anyways thats your choice..for me i m gonna go with the scratch guard for some weeks or may be month n lets see how it goes..for now about a week it feels to be performing just outstanding.So i wont be telling u more features of this phone as u can read'em anywhere in its specifications.I will tell you some 'X-Factors of Nord 2. And why you should decide to buy this phone1. The charging time.. I was like whtt!! When the phone shootes up from 0% to 85% in just about 30mins and upto 100% in around 40-45 mins...So the warp charging is just out of world @65W charger. Never ever saw this in any phone.2. The stereo speakers. When i played the first song i was just shocked what i just heard. Yes it actually feels to be giving a 3D feel of sound. Actually sound comes out of speakers on bottom right as well as speakers on top of screen which are meant to be for calling purpose only in other phones .So this phone just rocked here. 3. The camera just performs outstanding in low light, dark or even very dark sorroundings.To check it I went on to my terrace and clicked a picture in dark which you can see yourself..i have put it here. 4. The phone buid really feels premium.Some of the cons or I won't say cons..bcz I don't really feel them as cons.as u can ignore them over the astonishing features of this phone..but since we can't go away without mentioning some cons so here are some.1. They could have provided a little higher battery capacity like those in Samsung phones coz of Such a high resolution display and refresh rate..but it could have increased the weight of phone..so its pretty much understandable.Battery back up is some what 12-14 hrs which I got on continuous usage..like songs.. attending meetings on teams.. Netflix etc. But since it gives so..so..so.. fast charging u just wont feel it.2. No earphone jack..If that is a con to u..not for me actually😂 Nothing else serious issue this phone has got me into till now .So that it guys..If i find anything else after prolonged Usage I will honestly put it here.So I will say if you wanna buy a phone above 50k just dont..buy this if you budget is ~25k stretch it a lill and buy this Nord 2.\n",
      "\n",
      "\n",
      "Received my unit 4hr ago and here is what I think-1. Feels sturdy and premium in hand.2. 90hz looks absolutely fine, you won't miss 120hz3. In normal usage, the phone did not heat.4. Charged from 20-100% in just 15-20mins. My mind was blow away.5. Cameras- I didn't use it much but a sample image is attached which I took from the primary rear camera. So far it looks good to me.6. UI is clean but there were a lot of permissions which I had to accept to use the basic things like camera, search in the drawer. It clearly says in the policy that it shares my data. I believe we cannot do much about this.This is my initial impression, will update accordingly in the future.\n",
      "\n",
      "\n",
      "I got OnePlus Nord 2 5G phone delivered yesterday. While setting up Phone got an update and updated my phone. Some bugs needs to be fixed by OnePlus team. Below are some findings.1. Charging time of this phone from 21% to 100% took  auround 16 minutes which is good but at the same time battery is draining too fast after 2 hours battery was 31%. As I am not heavy user of this phone but still battery drained fast.2. While installing apps or updating apps I get error message stating that my storage is full and need to remove unused apps. I purchased 256 gb internal storage and had 217 gb free storage.3. While I was using flipkart app I noticed that after 12 seconds app closes automatically and I need to reopen again and again after every 12 seconds. This is very annoying.Please think before you buy this phone.\n",
      "\n",
      "\n",
      "7/28:Received this yesterday and first impression from look and feel was great.Was waiting for some reviews but will go first on this one, havent tried camera yet and should not as I moved from a Pixel 5 to this one. Purely for sake of google not providing dual apps even with eSim option.Things went south1) The mobile heated up a bit even during data transfer done via One plus switch App.2) VLC, gallery kept crashing. Videos will stop in middle and close, gallery will crash while you scroll on pictures.3) Few things are hard to find, not sure why camera need so many permission just to let you open it.4) Then came a update today morning and it hit the app cloner seems. Even with FB, Insta and WA on mobile, its not able to see it. I even reinstalled those to see if it picks it up.Seems like a half baked product with lack of testing rolled out to market. We are the test users.Product is overall okay and not my first one plus device. Just a bit of let down to start with and will have to wait on how soon these issues are sorted.Update 7/31:------------------ App cloner is showing apps now. However below apps continue to crash- Camera- whatsapp- youtuebe- Spotify- shuttle .  Ruined Android auto as well.I am sure list is long, but these are ones tried today and it's pathetic.\n",
      "\n",
      "\n"
     ]
    }
   ],
   "source": [
    "# print few reviews\n",
    "for i in range(5):\n",
    "    print(reviews['0'][i])\n",
    "    print('\\n')"
   ]
  },
  {
   "cell_type": "markdown",
   "id": "b9ede86e",
   "metadata": {},
   "source": [
    "# Clean the Data"
   ]
  },
  {
   "cell_type": "code",
   "execution_count": 40,
   "id": "166e20d2",
   "metadata": {
    "ExecuteTime": {
     "end_time": "2022-08-04T18:46:38.747105Z",
     "start_time": "2022-08-04T18:46:38.675491Z"
    }
   },
   "outputs": [],
   "source": [
    "import re\n",
    "NON_ALPHANUM = re.compile(r'[\\W]')\n",
    "NON_ASCII = re.compile(r'[^a-z0-1\\s]')\n",
    "def normalize_texts(texts):\n",
    "    normalized_texts = []\n",
    "    for text in texts:\n",
    "        lower = text.lower()\n",
    "        no_punctuation = NON_ALPHANUM.sub(r' ', lower)\n",
    "        no_non_ascii = NON_ASCII.sub(r'', no_punctuation)\n",
    "        normalized_texts.append(no_non_ascii)\n",
    "    return normalized_texts\n",
    "        \n",
    "clean_reviews = normalize_texts(reviews['0'])"
   ]
  },
  {
   "cell_type": "markdown",
   "id": "a5fc3729",
   "metadata": {
    "ExecuteTime": {
     "end_time": "2022-08-04T18:22:01.397673Z",
     "start_time": "2022-08-04T18:22:01.377897Z"
    }
   },
   "source": [
    "# Preprocessing the Data"
   ]
  },
  {
   "cell_type": "markdown",
   "id": "0ec28df0",
   "metadata": {},
   "source": [
    "### Tokenizing the data"
   ]
  },
  {
   "cell_type": "code",
   "execution_count": 41,
   "id": "8e47a867",
   "metadata": {
    "ExecuteTime": {
     "end_time": "2022-08-04T18:46:42.045805Z",
     "start_time": "2022-08-04T18:46:41.871871Z"
    }
   },
   "outputs": [],
   "source": [
    "MAX_FEATURES = 12000\n",
    "tokenizer = Tokenizer(num_words=MAX_FEATURES)\n",
    "tokenizer.fit_on_texts(clean_reviews)\n",
    "clean_reviews = tokenizer.texts_to_sequences(clean_reviews)"
   ]
  },
  {
   "cell_type": "markdown",
   "id": "03a9780c",
   "metadata": {},
   "source": [
    "### Padding the sequences"
   ]
  },
  {
   "cell_type": "code",
   "execution_count": 42,
   "id": "249d032c",
   "metadata": {
    "ExecuteTime": {
     "end_time": "2022-08-04T18:46:43.737234Z",
     "start_time": "2022-08-04T18:46:43.711807Z"
    }
   },
   "outputs": [],
   "source": [
    "MAX_LENGTH = 255 #as per the model architecture\n",
    "clean_reviews = pad_sequences(clean_reviews, maxlen=MAX_LENGTH)"
   ]
  },
  {
   "cell_type": "markdown",
   "id": "e505ee4c",
   "metadata": {},
   "source": [
    "# Predictions on the Data"
   ]
  },
  {
   "cell_type": "markdown",
   "id": "0eb5ed2a",
   "metadata": {
    "ExecuteTime": {
     "end_time": "2022-08-04T18:32:25.776333Z",
     "start_time": "2022-08-04T18:32:22.448349Z"
    }
   },
   "source": [
    "### Re-creating the model architecture"
   ]
  },
  {
   "cell_type": "code",
   "execution_count": 43,
   "id": "b965c5a4",
   "metadata": {
    "ExecuteTime": {
     "end_time": "2022-08-04T18:46:47.558439Z",
     "start_time": "2022-08-04T18:46:47.380228Z"
    }
   },
   "outputs": [],
   "source": [
    "def build_model():\n",
    "    sequences = layers.Input(shape=(MAX_LENGTH,))\n",
    "    embedded = layers.Embedding(MAX_FEATURES, 64)(sequences)\n",
    "    x = layers.Conv1D(64, 3, activation='relu')(embedded)\n",
    "    x = layers.BatchNormalization()(x)\n",
    "    x = layers.MaxPool1D(3)(x)\n",
    "    x = layers.Conv1D(64, 5, activation='relu')(x)\n",
    "    x = layers.BatchNormalization()(x)\n",
    "    x = layers.MaxPool1D(5)(x)\n",
    "    x = layers.Conv1D(64, 5, activation='relu')(x)\n",
    "    x = layers.GlobalMaxPool1D()(x)\n",
    "    x = layers.Flatten()(x)\n",
    "    x = layers.Dense(100, activation='relu')(x)\n",
    "    predictions = layers.Dense(1, activation='sigmoid')(x)\n",
    "    model = models.Model(inputs=sequences, outputs=predictions)\n",
    "    model.compile(\n",
    "        optimizer='rmsprop',\n",
    "        loss='binary_crossentropy',\n",
    "        metrics=['binary_accuracy']\n",
    "    )\n",
    "    return model\n",
    "    \n",
    "model = build_model()"
   ]
  },
  {
   "cell_type": "markdown",
   "id": "69177fd0",
   "metadata": {},
   "source": [
    "### Loading weights of trained model"
   ]
  },
  {
   "cell_type": "code",
   "execution_count": 44,
   "id": "86df3641",
   "metadata": {
    "ExecuteTime": {
     "end_time": "2022-08-04T18:46:48.733581Z",
     "start_time": "2022-08-04T18:46:48.677582Z"
    }
   },
   "outputs": [
    {
     "data": {
      "text/plain": [
       "<tensorflow.python.training.tracking.util.CheckpointLoadStatus at 0x219cb845fd0>"
      ]
     },
     "execution_count": 44,
     "metadata": {},
     "output_type": "execute_result"
    }
   ],
   "source": [
    "cnn_model.load_weights('./cnn_model_weights/')"
   ]
  },
  {
   "cell_type": "markdown",
   "id": "79d17ab4",
   "metadata": {},
   "source": [
    "### Predicting on scraped reviews"
   ]
  },
  {
   "cell_type": "code",
   "execution_count": 45,
   "id": "8c6d99d3",
   "metadata": {
    "ExecuteTime": {
     "end_time": "2022-08-04T18:46:51.462295Z",
     "start_time": "2022-08-04T18:46:49.725440Z"
    }
   },
   "outputs": [
    {
     "name": "stdout",
     "output_type": "stream",
     "text": [
      "32/32 [==============================] - 2s 12ms/step\n"
     ]
    }
   ],
   "source": [
    "cnn_preds = cnn_model.predict(clean_reviews)"
   ]
  },
  {
   "cell_type": "code",
   "execution_count": 78,
   "id": "ca272fb1",
   "metadata": {
    "ExecuteTime": {
     "end_time": "2022-08-04T18:56:18.077707Z",
     "start_time": "2022-08-04T18:56:18.059714Z"
    }
   },
   "outputs": [
    {
     "data": {
      "text/html": [
       "<div>\n",
       "<style scoped>\n",
       "    .dataframe tbody tr th:only-of-type {\n",
       "        vertical-align: middle;\n",
       "    }\n",
       "\n",
       "    .dataframe tbody tr th {\n",
       "        vertical-align: top;\n",
       "    }\n",
       "\n",
       "    .dataframe thead th {\n",
       "        text-align: right;\n",
       "    }\n",
       "</style>\n",
       "<table border=\"1\" class=\"dataframe\">\n",
       "  <thead>\n",
       "    <tr style=\"text-align: right;\">\n",
       "      <th></th>\n",
       "      <th>review</th>\n",
       "      <th>prediction</th>\n",
       "    </tr>\n",
       "  </thead>\n",
       "  <tbody>\n",
       "    <tr>\n",
       "      <th>0</th>\n",
       "      <td>In my first review given within 24 hrs l found...</td>\n",
       "      <td>0.964054</td>\n",
       "    </tr>\n",
       "    <tr>\n",
       "      <th>1</th>\n",
       "      <td>First of all I would like to tell you that i w...</td>\n",
       "      <td>0.027451</td>\n",
       "    </tr>\n",
       "    <tr>\n",
       "      <th>2</th>\n",
       "      <td>Received my unit 4hr ago and here is what I th...</td>\n",
       "      <td>0.891937</td>\n",
       "    </tr>\n",
       "    <tr>\n",
       "      <th>3</th>\n",
       "      <td>I got OnePlus Nord 2 5G phone delivered yester...</td>\n",
       "      <td>0.221118</td>\n",
       "    </tr>\n",
       "    <tr>\n",
       "      <th>4</th>\n",
       "      <td>7/28:Received this yesterday and first impress...</td>\n",
       "      <td>0.173468</td>\n",
       "    </tr>\n",
       "  </tbody>\n",
       "</table>\n",
       "</div>"
      ],
      "text/plain": [
       "                                              review  prediction\n",
       "0  In my first review given within 24 hrs l found...    0.964054\n",
       "1  First of all I would like to tell you that i w...    0.027451\n",
       "2  Received my unit 4hr ago and here is what I th...    0.891937\n",
       "3  I got OnePlus Nord 2 5G phone delivered yester...    0.221118\n",
       "4  7/28:Received this yesterday and first impress...    0.173468"
      ]
     },
     "execution_count": 78,
     "metadata": {},
     "output_type": "execute_result"
    }
   ],
   "source": [
    "list_pred = list(cnn_preds[:,0])\n",
    "df = pd.DataFrame(columns=['review','prediction'])\n",
    "df['review'] = reviews['0']\n",
    "df['prediction'] = list_pred\n",
    "df.head()"
   ]
  },
  {
   "cell_type": "code",
   "execution_count": 81,
   "id": "154383d3",
   "metadata": {
    "ExecuteTime": {
     "end_time": "2022-08-04T18:59:15.804511Z",
     "start_time": "2022-08-04T18:59:15.784509Z"
    }
   },
   "outputs": [
    {
     "data": {
      "text/html": [
       "<div>\n",
       "<style scoped>\n",
       "    .dataframe tbody tr th:only-of-type {\n",
       "        vertical-align: middle;\n",
       "    }\n",
       "\n",
       "    .dataframe tbody tr th {\n",
       "        vertical-align: top;\n",
       "    }\n",
       "\n",
       "    .dataframe thead th {\n",
       "        text-align: right;\n",
       "    }\n",
       "</style>\n",
       "<table border=\"1\" class=\"dataframe\">\n",
       "  <thead>\n",
       "    <tr style=\"text-align: right;\">\n",
       "      <th></th>\n",
       "      <th>review</th>\n",
       "      <th>prediction</th>\n",
       "      <th>sentiment</th>\n",
       "    </tr>\n",
       "  </thead>\n",
       "  <tbody>\n",
       "    <tr>\n",
       "      <th>0</th>\n",
       "      <td>In my first review given within 24 hrs l found...</td>\n",
       "      <td>0.964054</td>\n",
       "      <td>positive</td>\n",
       "    </tr>\n",
       "    <tr>\n",
       "      <th>1</th>\n",
       "      <td>First of all I would like to tell you that i w...</td>\n",
       "      <td>0.027451</td>\n",
       "      <td>negative</td>\n",
       "    </tr>\n",
       "    <tr>\n",
       "      <th>2</th>\n",
       "      <td>Received my unit 4hr ago and here is what I th...</td>\n",
       "      <td>0.891937</td>\n",
       "      <td>positive</td>\n",
       "    </tr>\n",
       "    <tr>\n",
       "      <th>3</th>\n",
       "      <td>I got OnePlus Nord 2 5G phone delivered yester...</td>\n",
       "      <td>0.221118</td>\n",
       "      <td>negative</td>\n",
       "    </tr>\n",
       "    <tr>\n",
       "      <th>4</th>\n",
       "      <td>7/28:Received this yesterday and first impress...</td>\n",
       "      <td>0.173468</td>\n",
       "      <td>negative</td>\n",
       "    </tr>\n",
       "  </tbody>\n",
       "</table>\n",
       "</div>"
      ],
      "text/plain": [
       "                                              review  prediction sentiment\n",
       "0  In my first review given within 24 hrs l found...    0.964054  positive\n",
       "1  First of all I would like to tell you that i w...    0.027451  negative\n",
       "2  Received my unit 4hr ago and here is what I th...    0.891937  positive\n",
       "3  I got OnePlus Nord 2 5G phone delivered yester...    0.221118  negative\n",
       "4  7/28:Received this yesterday and first impress...    0.173468  negative"
      ]
     },
     "execution_count": 81,
     "metadata": {},
     "output_type": "execute_result"
    }
   ],
   "source": [
    "df['sentiment'] = df['prediction'].apply(lambda x: 'positive' if x>0.5 else 'negative')\n",
    "df.head()"
   ]
  },
  {
   "cell_type": "markdown",
   "id": "21fcb0a1",
   "metadata": {},
   "source": [
    "# Visualizing the results"
   ]
  },
  {
   "cell_type": "code",
   "execution_count": 103,
   "id": "01eba79a",
   "metadata": {
    "ExecuteTime": {
     "end_time": "2022-08-04T19:09:49.316550Z",
     "start_time": "2022-08-04T19:09:48.232664Z"
    }
   },
   "outputs": [
    {
     "data": {
      "text/plain": [
       "<seaborn.axisgrid.FacetGrid at 0x219cc84be80>"
      ]
     },
     "execution_count": 103,
     "metadata": {},
     "output_type": "execute_result"
    },
    {
     "data": {
      "image/png": "[encoded data removed]",
      "text/plain": [
       "<Figure size 360x360 with 1 Axes>"
      ]
     },
     "metadata": {
      "needs_background": "light"
     },
     "output_type": "display_data"
    }
   ],
   "source": [
    "sns.displot(df['sentiment'])"
   ]
  },
  {
   "cell_type": "code",
   "execution_count": 99,
   "id": "87c2cf72",
   "metadata": {
    "ExecuteTime": {
     "end_time": "2022-08-04T19:08:40.114077Z",
     "start_time": "2022-08-04T19:08:40.025083Z"
    }
   },
   "outputs": [
    {
     "data": {
      "image/png": "[encoded data removed]",
      "text/plain": [
       "<Figure size 432x288 with 1 Axes>"
      ]
     },
     "metadata": {},
     "output_type": "display_data"
    }
   ],
   "source": [
    "counts = df['sentiment'].value_counts()\n",
    "plt.pie(counts, labels = counts.index)\n",
    "plt.show()"
   ]
  },
  {
   "cell_type": "code",
   "execution_count": null,
   "id": "d065eb8a",
   "metadata": {},
   "outputs": [],
   "source": []
  }
 ],
 "metadata": {
  "kernelspec": {
   "display_name": "Python 3",
   "language": "python",
   "name": "python3"
  },
  "language_info": {
   "codemirror_mode": {
    "name": "ipython",
    "version": 3
   },
   "file_extension": ".py",
   "mimetype": "text/x-python",
   "name": "python",
   "nbconvert_exporter": "python",
   "pygments_lexer": "ipython3",
   "version": "3.8.8"
  }
 },
 "nbformat": 4,
 "nbformat_minor": 5
}
